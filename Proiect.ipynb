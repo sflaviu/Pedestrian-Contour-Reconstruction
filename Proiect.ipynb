{
 "cells": [
  {
   "cell_type": "code",
   "execution_count": 24,
   "metadata": {},
   "outputs": [],
   "source": [
    "from __future__ import division\n",
    "\n",
    "from sklearn.model_selection import train_test_split\n",
    "from sklearn.metrics import accuracy_score\n",
    "from sklearn import preprocessing\n",
    "\n",
    "import math\n",
    "import numpy as np\n",
    "import cv2\n",
    "import os\n",
    "import glob\n",
    "\n",
    "import random"
   ]
  },
  {
   "cell_type": "code",
   "execution_count": 25,
   "metadata": {},
   "outputs": [],
   "source": [
    "#Constants - resized image \n",
    "\n",
    "reshapedImageHeight = 80\n",
    "reshapedImageWidth = 25\n",
    "sizeOfContour = 150"
   ]
  },
  {
   "cell_type": "code",
   "execution_count": 26,
   "metadata": {},
   "outputs": [],
   "source": [
    "#Globals\n",
    "\n",
    "means= []\n",
    "variances = []"
   ]
  },
  {
   "cell_type": "code",
   "execution_count": 27,
   "metadata": {},
   "outputs": [],
   "source": [
    "def getMean2DVector(vector):\n",
    "    meanX = 0.0\n",
    "    meanY = 0.0\n",
    "\n",
    "    for v in vector:\n",
    "        meanX = meanX + v[0]\n",
    "        meanY = meanY + v[1]\n",
    "    return [meanX / len(vector),meanY / len(vector)]"
   ]
  },
  {
   "cell_type": "code",
   "execution_count": 28,
   "metadata": {},
   "outputs": [],
   "source": [
    "def getVariance2DVector(vector, meanX, meanY):\n",
    "    varX = 0.0\n",
    "    varY = 0.0\n",
    "    for v in vector:\n",
    "        varX = varX + (meanX - v[0])**2\n",
    "        varY = varY + (meanY - v[1])**2\n",
    "    return [math.sqrt(varX / (len(vector) - 1)), math.sqrt(varY / (len(vector) - 1))]"
   ]
  },
  {
   "cell_type": "code",
   "execution_count": 29,
   "metadata": {},
   "outputs": [],
   "source": [
    "def isEdgePoint(i,j,image):\n",
    "    \n",
    "    if(image[i][j]==255 and (image[i-1][j-1]==0 or image[i-1][j]==0 or image[i-1][j+1]==0 or image[i][j-1]==0 or image[i][j+1]==0 or image[i+1][j-1]==0 or image[i+1][j]==0 or image[i+1][j+1]==0)):\n",
    "        return True\n",
    "    return False"
   ]
  },
  {
   "cell_type": "code",
   "execution_count": 30,
   "metadata": {},
   "outputs": [],
   "source": [
    "#find points on edge\n",
    "def getPointsFromContours(image):\n",
    "    \n",
    "    contour=[]\n",
    "    \n",
    "    index=0\n",
    "    \n",
    "    for i in range (1, reshapedImageHeight-1):\n",
    "        for j in range (1, reshapedImageWidth-1):\n",
    "            if isEdgePoint(i,j,image) ==True:\n",
    "                contour.append([i,j])\n",
    "    return contour\n",
    "    "
   ]
  },
  {
   "cell_type": "code",
   "execution_count": 31,
   "metadata": {},
   "outputs": [],
   "source": [
    "# select same number of points in each contour\n",
    "def densityFix(contours):\n",
    "    \n",
    "    difference = len(contours) - sizeOfContour\n",
    "    \n",
    "    multiple = len(contours)/ difference\n",
    "    \n",
    "    addedContour = []\n",
    "    \n",
    "    index = 1 \n",
    "    multipleIndex = 1\n",
    "    \n",
    "    for c in contours:\n",
    "        if(index >= multiple * multipleIndex):\n",
    "            multipleIndex =  multipleIndex + 1\n",
    "        else:\n",
    "            addedContour.append(c)\n",
    "        index = index + 1\n",
    "            \n",
    "    if(len(addedContour) == sizeOfContour + 1):\n",
    "        addedContour.pop()\n",
    "        \n",
    "    return addedContour"
   ]
  },
  {
   "cell_type": "code",
   "execution_count": 32,
   "metadata": {},
   "outputs": [],
   "source": [
    "def extractContours():\n",
    "    \n",
    "    imagePath = \"PedCut2013_SegmentationDataset/data/completeData/left_groundTruth/*.png\"\n",
    "    \n",
    "    contours = []\n",
    "    \n",
    "    i=0\n",
    "    \n",
    "    for filename in glob.glob(imagePath):\n",
    "        \n",
    "        image= cv2.imread(filename, 0)\n",
    "        image = cv2.resize(image, (reshapedImageWidth,reshapedImageHeight),interpolation=cv2.INTER_NEAREST)\n",
    "        \n",
    "        contour = getPointsFromContours(image)\n",
    "        \n",
    "        contour = densityFix(contour)\n",
    "        \n",
    "        #for c in contour:\n",
    "        #    contours.append(c)\n",
    "        \n",
    "        contours.append(contour)\n",
    "        \n",
    "    contours = np.array(contours)\n",
    "    return contours"
   ]
  },
  {
   "cell_type": "code",
   "execution_count": 33,
   "metadata": {},
   "outputs": [],
   "source": [
    "def getCovarianceFromMatrix(matrix):\n",
    "    \n",
    "    print(matrix.shape)\n",
    "    covarianceMatrix = np.ndarray((matrix.shape[1], matrix.shape[1]))\n",
    "    \n",
    "    for i in range(matrix.shape[1]):\n",
    "        for j in range(matrix.shape[1]):\n",
    "        \n",
    "            rez = 0\n",
    "            for z in range (matrix.shape[0]):\n",
    "                rez = rez + matrix[z][i][0] * matrix[z][j][0] + matrix[z][i][1] * matrix[z][j][1]\n",
    "            covarianceMatrix[i][j] = rez\n",
    "        \n",
    "    return covarianceMatrix"
   ]
  },
  {
   "cell_type": "code",
   "execution_count": 34,
   "metadata": {},
   "outputs": [],
   "source": [
    "def adjustContour(point):\n",
    "    \n",
    "    correctPoint = [int(point[0]), int(point[1])]\n",
    "    \n",
    "    if(point[0] >= reshapedImageHeight ):\n",
    "        correctPoint[0] = reshapedImageHeight - 1\n",
    "    if(point[1] >= reshapedImageWidth ):\n",
    "        correctPoint[1] = reshapedImageWidth - 1\n",
    "        \n",
    "    return correctPoint"
   ]
  },
  {
   "cell_type": "code",
   "execution_count": 35,
   "metadata": {},
   "outputs": [],
   "source": [
    "def drawImageFromContour(contour):\n",
    "    \n",
    "    contourImage = np.zeros((reshapedImageHeight,reshapedImageWidth))\n",
    "    for i in range(contour.shape[0]):\n",
    "    \n",
    "        adjustedContour = adjustContour(contour[i])\n",
    "        \n",
    "        contourImage[adjustedContour[0]][adjustedContour[1]] = 255\n",
    "    \n",
    "    cv2.imshow('Shape of pedestrian', contourImage)\n",
    "    cv2.waitKey(0)\n",
    "    cv2.destroyAllWindows()\n",
    "    "
   ]
  },
  {
   "cell_type": "code",
   "execution_count": 36,
   "metadata": {},
   "outputs": [],
   "source": [
    "def drawAverageOfAllImages(contours):\n",
    "    \n",
    "    contourImage = np.zeros((reshapedImageHeight,reshapedImageWidth))\n",
    "    \n",
    "    sumOfContours = np.zeros((contours.shape[1],2))\n",
    "    for j in range(contours.shape[0]):\n",
    "\n",
    "        sumOfContours += contours[j]\n",
    "\n",
    "    sumOfContours = sumOfContours / contours.shape[0]\n",
    "    \n",
    "    drawImageFromContour(sumOfContours)\n",
    "    "
   ]
  },
  {
   "cell_type": "code",
   "execution_count": 37,
   "metadata": {},
   "outputs": [],
   "source": [
    "inputData = extractContours()\n",
    "\n",
    "#complexData = convertToImaginary(inputData)\n",
    "\n",
    "#print(inputData)"
   ]
  },
  {
   "cell_type": "code",
   "execution_count": 38,
   "metadata": {},
   "outputs": [],
   "source": [
    "def preprocess(inputV):\n",
    "\n",
    "    reshapedV = np.reshape(inputV,(inputV.shape[0] * inputV.shape[1], inputV.shape[2]))\n",
    "    means = getMean2DVector(reshapedV)\n",
    "    variances = getVariance2DVector(reshapedV, means[0], means[1])\n",
    "   \n",
    "    outputV = []\n",
    "    \n",
    "    for v in reshapedV:\n",
    "        x = (v[0] - means[0]) / variances[0]\n",
    "        y = (v[1] - means[1]) / variances[1]\n",
    "        \n",
    "        outputV.append([x,y])\n",
    "    return np.reshape(np.array(outputV), (inputV.shape[0],inputV.shape[1],inputV.shape[2]))"
   ]
  },
  {
   "cell_type": "code",
   "execution_count": 39,
   "metadata": {
    "scrolled": true
   },
   "outputs": [],
   "source": [
    "def pca(inputData, nrComponents):\n",
    "    \n",
    "    size = inputData.shape\n",
    "    print(size)\n",
    "    \n",
    "    #covariance = np.dot(inputData.T,inputData)\n",
    "    \n",
    "    covariance = getCovarianceFromMatrix(inputData)\n",
    "    covariance = covariance / size[1]\n",
    "    \n",
    "    print(covariance)\n",
    "    \n",
    "    eigenvalues, eigenvectors = np.linalg.eig(covariance)\n",
    "    \n",
    "    #print(eigenvalues)\n",
    "    \n",
    "    selectedEigenvectors = np.ndarray((nrComponents,eigenvectors.shape[1]))\n",
    "\n",
    "    sortedEigen = np.argsort( -1 * eigenvalues)\n",
    "    \n",
    "    \n",
    "    for i in range (nrComponents):\n",
    "        \n",
    "        index = sortedEigen[i]\n",
    "        selectedEigenvectors[i] = eigenvectors.T[index]\n",
    "        \n",
    "    XPCA = np.dot(inputData,np.transpose(selectedEigenvectors))\n",
    "    \n",
    "    #XTilda= np.dot(XPCA, selectedEigenvectors)\n",
    "    \n",
    "    return XPCA\n",
    "  "
   ]
  },
  {
   "cell_type": "code",
   "execution_count": 40,
   "metadata": {},
   "outputs": [],
   "source": [
    "# vector of ordered indices\n",
    "def constructVectorOrder(vector, size):\n",
    "    \n",
    "    orderedVector = np.ndarray((size))\n",
    "    for i in range (size):\n",
    "        orderedVector[i] = np.argwhere(vector==i)[0]\n",
    "        \n",
    "    return orderedVector"
   ]
  },
  {
   "cell_type": "code",
   "execution_count": 41,
   "metadata": {},
   "outputs": [],
   "source": [
    "def mergeArrays(x, y):\n",
    "    \n",
    "    size = x.shape\n",
    "    \n",
    "    result = np.ndarray((size[0], size[1],2))\n",
    "    \n",
    "    for i in range (size[0]):\n",
    "        for j in range(size[1]):\n",
    "            result[i][j][0] = x[i][j]\n",
    "            result[i][j][1] = y[i][j]\n",
    "    return result"
   ]
  },
  {
   "cell_type": "code",
   "execution_count": 42,
   "metadata": {},
   "outputs": [],
   "source": [
    "# extract PCA for each axis (X and Y), choose PCA value with \n",
    "def doublePCA(inputData, nrComponents):\n",
    "    \n",
    "    size = inputData.shape\n",
    "    transposedInput = np.transpose(inputData)\n",
    "    \n",
    "    x =transposedInput[0]\n",
    "    y =transposedInput[1]\n",
    "    \n",
    "    covarianceX = np.dot(x,x.T)\n",
    "    covarianceY = np.dot(y,y.T)\n",
    "    \n",
    "    covarianceX = covarianceX / size[1]\n",
    "    covarianceY = covarianceY / size[1]\n",
    "    \n",
    "    \n",
    "    eigenvaluesX, eigenvectorsX = np.linalg.eig(covarianceX)\n",
    "    eigenvaluesY, eigenvectorsY = np.linalg.eig(covarianceY)\n",
    "    \n",
    "    #print(eigenvalues)\n",
    "    \n",
    "    selectedEigenvectorsX = np.ndarray((nrComponents,eigenvectorsX.shape[1]))\n",
    "    selectedEigenvectorsY = np.ndarray((nrComponents,eigenvectorsY.shape[1]))\n",
    "    \n",
    "    sortedEigenX = np.argsort(eigenvaluesX)\n",
    "    sortedEigenY = np.argsort(eigenvaluesY)\n",
    "    \n",
    "    pcaOrderOfX = constructVectorOrder(sortedEigenX, size[1])\n",
    "    pcaOrderOfY = constructVectorOrder(sortedEigenY, size[1])\n",
    "    \n",
    "    finalSum = pcaOrderOfX + pcaOrderOfY\n",
    "    \n",
    "    sortedFinalSum = np.argsort(finalSum)\n",
    "    \n",
    "    selectedTopFeatures = constructVectorOrder(sortedFinalSum, nrComponents)\n",
    "    \n",
    "    selectedEigenvectorsX = np.ndarray((nrComponents,eigenvectorsX.shape[1]))\n",
    "    selectedEigenvectorsY = np.ndarray((nrComponents,eigenvectorsY.shape[1]))\n",
    "    \n",
    "    for i in range (nrComponents):\n",
    "        \n",
    "        index = int(selectedTopFeatures[i])\n",
    "        selectedEigenvectorsX[i] = eigenvectorsX.T[index]\n",
    "        selectedEigenvectorsY[i] = eigenvectorsY.T[index]\n",
    "        \n",
    "    XPCA = np.dot(np.transpose(x), np.transpose(selectedEigenvectorsX))\n",
    "    YPCA = np.dot(np.transpose(y), np.transpose(selectedEigenvectorsY))\n",
    "    \n",
    "    XTilda = np.dot(XPCA, selectedEigenvectorsX)\n",
    "    YTilda = np.dot(YPCA, selectedEigenvectorsY)\n",
    "    \n",
    "    return mergeArrays(XTilda,YTilda)"
   ]
  },
  {
   "cell_type": "code",
   "execution_count": 43,
   "metadata": {},
   "outputs": [],
   "source": [
    "points = np.round(doublePCA(inputData,110))\n",
    "\n",
    "#draw 20 images to view extracted features\n",
    "for i in range(20) :\n",
    "    drawImageFromContour(points[i])\n",
    "    \n",
    "drawAverageOfAllImages(points)\n",
    "\n",
    "#print(inputData)"
   ]
  },
  {
   "cell_type": "code",
   "execution_count": null,
   "metadata": {},
   "outputs": [],
   "source": []
  }
 ],
 "metadata": {
  "kernelspec": {
   "display_name": "Python 3",
   "language": "python",
   "name": "python3"
  },
  "language_info": {
   "codemirror_mode": {
    "name": "ipython",
    "version": 3
   },
   "file_extension": ".py",
   "mimetype": "text/x-python",
   "name": "python",
   "nbconvert_exporter": "python",
   "pygments_lexer": "ipython3",
   "version": "3.6.6"
  }
 },
 "nbformat": 4,
 "nbformat_minor": 2
}
